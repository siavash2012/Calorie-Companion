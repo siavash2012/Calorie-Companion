{
  "nbformat": 4,
  "nbformat_minor": 0,
  "metadata": {
    "colab": {
      "provenance": []
    },
    "kernelspec": {
      "name": "python3",
      "display_name": "Python 3"
    },
    "language_info": {
      "name": "python"
    }
  },
  "cells": [
    {
      "cell_type": "code",
      "source": [
        "!pip install pyrebase4"
      ],
      "metadata": {
        "colab": {
          "base_uri": "https://localhost:8080/"
        },
        "id": "CGpmaJeoC5YT",
        "outputId": "64ddd0b8-84e9-4533-f944-ce2a5b913171"
      },
      "execution_count": null,
      "outputs": [
        {
          "output_type": "stream",
          "name": "stdout",
          "text": [
            "Collecting pyrebase4\n",
            "  Downloading Pyrebase4-4.8.0-py3-none-any.whl.metadata (662 bytes)\n",
            "Collecting requests-toolbelt<1.0,>=0.7.1 (from pyrebase4)\n",
            "  Downloading requests_toolbelt-0.10.1-py2.py3-none-any.whl.metadata (14 kB)\n",
            "Requirement already satisfied: requests>=2.31 in /usr/local/lib/python3.11/dist-packages (from pyrebase4) (2.32.3)\n",
            "Collecting urllib3<2,>=1.21.1 (from pyrebase4)\n",
            "  Downloading urllib3-1.26.20-py2.py3-none-any.whl.metadata (50 kB)\n",
            "\u001b[2K     \u001b[90m━━━━━━━━━━━━━━━━━━━━━━━━━━━━━━━━━━━━━━━━\u001b[0m \u001b[32m50.1/50.1 kB\u001b[0m \u001b[31m2.1 MB/s\u001b[0m eta \u001b[36m0:00:00\u001b[0m\n",
            "\u001b[?25hCollecting gcloud>=0.18.3 (from pyrebase4)\n",
            "  Downloading gcloud-0.18.3.tar.gz (454 kB)\n",
            "\u001b[2K     \u001b[90m━━━━━━━━━━━━━━━━━━━━━━━━━━━━━━━━━━━━━━━━\u001b[0m \u001b[32m454.4/454.4 kB\u001b[0m \u001b[31m9.9 MB/s\u001b[0m eta \u001b[36m0:00:00\u001b[0m\n",
            "\u001b[?25h  Preparing metadata (setup.py) ... \u001b[?25l\u001b[?25hdone\n",
            "Requirement already satisfied: oauth2client>=4.1.2 in /usr/local/lib/python3.11/dist-packages (from pyrebase4) (4.1.3)\n",
            "\u001b[33mWARNING: Retrying (Retry(total=4, connect=None, read=None, redirect=None, status=None)) after connection broken by 'ProtocolError('Connection aborted.', RemoteDisconnected('Remote end closed connection without response'))': /simple/python-jwt/\u001b[0m\u001b[33m\n",
            "\u001b[0mCollecting python-jwt>=2.0.1 (from pyrebase4)\n",
            "  Downloading python_jwt-4.1.0-py2.py3-none-any.whl.metadata (5.6 kB)\n",
            "Collecting pycryptodome>=3.6.4 (from pyrebase4)\n",
            "  Downloading pycryptodome-3.22.0-cp37-abi3-manylinux_2_17_x86_64.manylinux2014_x86_64.whl.metadata (3.4 kB)\n",
            "Requirement already satisfied: httplib2>=0.9.1 in /usr/local/lib/python3.11/dist-packages (from gcloud>=0.18.3->pyrebase4) (0.22.0)\n",
            "Requirement already satisfied: googleapis-common-protos in /usr/local/lib/python3.11/dist-packages (from gcloud>=0.18.3->pyrebase4) (1.69.2)\n",
            "Requirement already satisfied: protobuf!=3.0.0.b2.post1,>=3.0.0b2 in /usr/local/lib/python3.11/dist-packages (from gcloud>=0.18.3->pyrebase4) (5.29.3)\n",
            "Requirement already satisfied: six in /usr/local/lib/python3.11/dist-packages (from gcloud>=0.18.3->pyrebase4) (1.17.0)\n",
            "Requirement already satisfied: pyasn1>=0.1.7 in /usr/local/lib/python3.11/dist-packages (from oauth2client>=4.1.2->pyrebase4) (0.6.1)\n",
            "Requirement already satisfied: pyasn1-modules>=0.0.5 in /usr/local/lib/python3.11/dist-packages (from oauth2client>=4.1.2->pyrebase4) (0.4.1)\n",
            "Requirement already satisfied: rsa>=3.1.4 in /usr/local/lib/python3.11/dist-packages (from oauth2client>=4.1.2->pyrebase4) (4.9)\n",
            "Collecting jwcrypto>=1.4.2 (from python-jwt>=2.0.1->pyrebase4)\n",
            "  Downloading jwcrypto-1.5.6-py3-none-any.whl.metadata (3.1 kB)\n",
            "Requirement already satisfied: charset-normalizer<4,>=2 in /usr/local/lib/python3.11/dist-packages (from requests>=2.31->pyrebase4) (3.4.1)\n",
            "Requirement already satisfied: idna<4,>=2.5 in /usr/local/lib/python3.11/dist-packages (from requests>=2.31->pyrebase4) (3.10)\n",
            "Requirement already satisfied: certifi>=2017.4.17 in /usr/local/lib/python3.11/dist-packages (from requests>=2.31->pyrebase4) (2025.1.31)\n",
            "Requirement already satisfied: pyparsing!=3.0.0,!=3.0.1,!=3.0.2,!=3.0.3,<4,>=2.4.2 in /usr/local/lib/python3.11/dist-packages (from httplib2>=0.9.1->gcloud>=0.18.3->pyrebase4) (3.2.1)\n",
            "Requirement already satisfied: cryptography>=3.4 in /usr/local/lib/python3.11/dist-packages (from jwcrypto>=1.4.2->python-jwt>=2.0.1->pyrebase4) (43.0.3)\n",
            "Requirement already satisfied: typing-extensions>=4.5.0 in /usr/local/lib/python3.11/dist-packages (from jwcrypto>=1.4.2->python-jwt>=2.0.1->pyrebase4) (4.12.2)\n",
            "Requirement already satisfied: cffi>=1.12 in /usr/local/lib/python3.11/dist-packages (from cryptography>=3.4->jwcrypto>=1.4.2->python-jwt>=2.0.1->pyrebase4) (1.17.1)\n",
            "Requirement already satisfied: pycparser in /usr/local/lib/python3.11/dist-packages (from cffi>=1.12->cryptography>=3.4->jwcrypto>=1.4.2->python-jwt>=2.0.1->pyrebase4) (2.22)\n",
            "Downloading Pyrebase4-4.8.0-py3-none-any.whl (9.2 kB)\n",
            "Downloading pycryptodome-3.22.0-cp37-abi3-manylinux_2_17_x86_64.manylinux2014_x86_64.whl (2.3 MB)\n",
            "\u001b[2K   \u001b[90m━━━━━━━━━━━━━━━━━━━━━━━━━━━━━━━━━━━━━━━━\u001b[0m \u001b[32m2.3/2.3 MB\u001b[0m \u001b[31m24.9 MB/s\u001b[0m eta \u001b[36m0:00:00\u001b[0m\n",
            "\u001b[?25hDownloading python_jwt-4.1.0-py2.py3-none-any.whl (7.1 kB)\n",
            "Downloading requests_toolbelt-0.10.1-py2.py3-none-any.whl (54 kB)\n",
            "\u001b[2K   \u001b[90m━━━━━━━━━━━━━━━━━━━━━━━━━━━━━━━━━━━━━━━━\u001b[0m \u001b[32m54.5/54.5 kB\u001b[0m \u001b[31m1.7 MB/s\u001b[0m eta \u001b[36m0:00:00\u001b[0m\n",
            "\u001b[?25hDownloading urllib3-1.26.20-py2.py3-none-any.whl (144 kB)\n",
            "\u001b[2K   \u001b[90m━━━━━━━━━━━━━━━━━━━━━━━━━━━━━━━━━━━━━━━━\u001b[0m \u001b[32m144.2/144.2 kB\u001b[0m \u001b[31m7.9 MB/s\u001b[0m eta \u001b[36m0:00:00\u001b[0m\n",
            "\u001b[?25hDownloading jwcrypto-1.5.6-py3-none-any.whl (92 kB)\n",
            "\u001b[2K   \u001b[90m━━━━━━━━━━━━━━━━━━━━━━━━━━━━━━━━━━━━━━━━\u001b[0m \u001b[32m92.5/92.5 kB\u001b[0m \u001b[31m4.0 MB/s\u001b[0m eta \u001b[36m0:00:00\u001b[0m\n",
            "\u001b[?25hBuilding wheels for collected packages: gcloud\n",
            "  Building wheel for gcloud (setup.py) ... \u001b[?25l\u001b[?25hdone\n",
            "  Created wheel for gcloud: filename=gcloud-0.18.3-py3-none-any.whl size=602925 sha256=b5ef0b1c4a2d9486218f2db3874a37b9eec4a620305459dbe5b90f388e88f208\n",
            "  Stored in directory: /root/.cache/pip/wheels/3c/e8/d1/cb82a63f69083ea485de71d14248b8d145f1af46a41578be9c\n",
            "Successfully built gcloud\n",
            "Installing collected packages: urllib3, pycryptodome, requests-toolbelt, jwcrypto, gcloud, python-jwt, pyrebase4\n",
            "  Attempting uninstall: urllib3\n",
            "    Found existing installation: urllib3 2.3.0\n",
            "    Uninstalling urllib3-2.3.0:\n",
            "      Successfully uninstalled urllib3-2.3.0\n",
            "  Attempting uninstall: requests-toolbelt\n",
            "    Found existing installation: requests-toolbelt 1.0.0\n",
            "    Uninstalling requests-toolbelt-1.0.0:\n",
            "      Successfully uninstalled requests-toolbelt-1.0.0\n",
            "\u001b[31mERROR: pip's dependency resolver does not currently take into account all the packages that are installed. This behaviour is the source of the following dependency conflicts.\n",
            "langsmith 0.3.15 requires requests-toolbelt<2.0.0,>=1.0.0, but you have requests-toolbelt 0.10.1 which is incompatible.\u001b[0m\u001b[31m\n",
            "\u001b[0mSuccessfully installed gcloud-0.18.3 jwcrypto-1.5.6 pycryptodome-3.22.0 pyrebase4-4.8.0 python-jwt-4.1.0 requests-toolbelt-0.10.1 urllib3-1.26.20\n"
          ]
        }
      ]
    },
    {
      "cell_type": "code",
      "source": [
        "import pyrebase\n",
        "import pandas as pd\n",
        "from datetime import date\n",
        "from google.colab import files\n",
        "import csv"
      ],
      "metadata": {
        "id": "PqOp9ceJDiZ5"
      },
      "execution_count": null,
      "outputs": []
    },
    {
      "cell_type": "code",
      "source": [
        "config = {\n",
        "  'apiKey': \"\",\n",
        "  'authDomain': \"\",\n",
        "  'databaseURL': \"\",\n",
        "  'projectId': \"\",\n",
        "  'storageBucket': \"\",\n",
        "\n",
        "}"
      ],
      "metadata": {
        "id": "CMlRBxJrDmxU"
      },
      "execution_count": null,
      "outputs": []
    },
    {
      "cell_type": "code",
      "source": [
        "# Initialize Firebase\n",
        "firebase = pyrebase.initialize_app(config)\n",
        "\n",
        "# Get a reference to the database service\n",
        "db = firebase.database()"
      ],
      "metadata": {
        "id": "il6oQvJdEJuQ"
      },
      "execution_count": null,
      "outputs": []
    },
    {
      "cell_type": "code",
      "source": [
        "print(db.child('nutrition').child('rice').get().val())"
      ],
      "metadata": {
        "colab": {
          "base_uri": "https://localhost:8080/"
        },
        "id": "SYlfH_16ySu5",
        "outputId": "2f77462f-8499-4752-e962-3d32503bb651"
      },
      "execution_count": null,
      "outputs": [
        {
          "output_type": "stream",
          "name": "stdout",
          "text": [
            "1.3\n"
          ]
        }
      ]
    },
    {
      "cell_type": "code",
      "source": [
        "exercises = {\n",
        "    \"running\": {\"calories\": 16},\n",
        "    \"jumpingrope\": {\"calories\": 12},\n",
        "    \"hiit\": {\"calories\": 15},\n",
        "    \"swimming\": {\"calories\": 10},\n",
        "    \"cycling\": {\"calories\": 10},\n",
        "    \"burpees\": {\"calories\": 14},\n",
        "    \"mountainclimbers\": {\"calories\": 10},\n",
        "    \"squats\": {\"calories\": 8},\n",
        "    \"pushups\": {\"calories\": 7},\n",
        "    \"pullups\": {\"calories\": 8},\n",
        "    \"lunges\": {\"calories\": 7},\n",
        "    \"plank\": {\"calories\": 3},\n",
        "    \"situps\": {\"calories\": 5},\n",
        "    \"crunches\": {\"calories\": 4},\n",
        "    \"legraises\": {\"calories\": 5},\n",
        "    \"kettlebellswings\": {\"calories\": 9},\n",
        "    \"boxjumps\": {\"calories\": 12},\n",
        "    \"rowingmachine\": {\"calories\": 9},\n",
        "    \"elliptical\": {\"calories\": 8},\n",
        "    \"stairclimbing\": {\"calories\": 11},\n",
        "    \"aerobicdancing\": {\"calories\": 8},\n",
        "    \"zumba\": {\"calories\": 9},\n",
        "    \"kickboxing\": {\"calories\": 10},\n",
        "    \"pilates\": {\"calories\": 4},\n",
        "    \"yoga\": {\"calories\": 3},\n",
        "    \"walking\": {\"calories\": 4},\n",
        "    \"jogging\": {\"calories\": 8},\n",
        "    \"sprinting\": {\"calories\": 18},\n",
        "    \"basketball\": {\"calories\": 8},\n",
        "    \"soccer\": {\"calories\": 9},\n",
        "    \"tennis\": {\"calories\": 7},\n",
        "    \"volleyball\": {\"calories\": 5},\n",
        "    \"badminton\": {\"calories\": 5},\n",
        "    \"tabletennis\": {\"calories\": 4},\n",
        "    \"golf\": {\"calories\": 4},\n",
        "    \"bowling\": {\"calories\": 2},\n",
        "    \"frisbee\": {\"calories\": 3},\n",
        "    \"hulahooping\": {\"calories\": 5},\n",
        "    \"jumpsquats\": {\"calories\": 12},\n",
        "    \"jumpingjacks\": {\"calories\": 10},\n",
        "    \"highknees\": {\"calories\": 10},\n",
        "    \"buttkicks\": {\"calories\": 9},\n",
        "    \"bearcrawls\": {\"calories\": 8},\n",
        "    \"inchworms\": {\"calories\": 7},\n",
        "    \"wallsits\": {\"calories\": 6},\n",
        "    \"tricepdips\": {\"calories\": 5},\n",
        "    \"bicepcurls\": {\"calories\": 4},\n",
        "    \"shoulderpress\": {\"calories\": 5},\n",
        "    \"deadlifts\": {\"calories\": 7},\n",
        "    \"benchpress\": {\"calories\": 6},\n",
        "    \"latpulldowns\": {\"calories\": 5},\n",
        "    \"legpress\": {\"calories\": 6},\n",
        "    \"calfraises\": {\"calories\": 4},\n",
        "    \"russiantwists\": {\"calories\": 5},\n",
        "    \"plankjacks\": {\"calories\": 9},\n",
        "    \"sideplanks\": {\"calories\": 4},\n",
        "    \"supermanholds\": {\"calories\": 3},\n",
        "    \"birddogs\": {\"calories\": 3},\n",
        "    \"glutebridges\": {\"calories\": 4},\n",
        "    \"firehydrants\": {\"calories\": 3},\n",
        "    \"donkeykicks\": {\"calories\": 4},\n",
        "    \"bicyclecrunches\": {\"calories\": 6},\n",
        "    \"mountainclimbers\": {\"calories\": 10},\n",
        "    \"skaters\": {\"calories\": 8},\n",
        "    \"tuckjumps\": {\"calories\": 11},\n",
        "    \"squatjumps\": {\"calories\": 12},\n",
        "    \"lungejumps\": {\"calories\": 11},\n",
        "    \"battleropes\": {\"calories\": 10},\n",
        "    \"medicineballslams\": {\"calories\": 9},\n",
        "    \"resistancebands\": {\"calories\": 4},\n",
        "    \"trx\": {\"calories\": 6},\n",
        "    \"foamrolling\": {\"calories\": 2},\n",
        "    \"stretching\": {\"calories\": 1},\n",
        "    \"taichi\": {\"calories\": 3},\n",
        "    \"barre\": {\"calories\": 5},\n",
        "    \"spinning\": {\"calories\": 11},\n",
        "    \"rockclimbing\": {\"calories\": 8},\n",
        "    \"kayaking\": {\"calories\": 5},\n",
        "    \"canoeing\": {\"calories\": 4},\n",
        "    \"paddleboarding\": {\"calories\": 4},\n",
        "    \"surfing\": {\"calories\": 5},\n",
        "    \"skateboarding\": {\"calories\": 5},\n",
        "    \"rollerblading\": {\"calories\": 7},\n",
        "    \"iceskating\": {\"calories\": 7},\n",
        "    \"crosscountryskiing\": {\"calories\": 12},\n",
        "    \"downhillskiing\": {\"calories\": 8},\n",
        "    \"snowboarding\": {\"calories\": 7},\n",
        "    \"sledding\": {\"calories\": 5},\n",
        "    \"horsebackriding\": {\"calories\": 4},\n",
        "    \"archery\": {\"calories\": 2},\n",
        "    \"fencing\": {\"calories\": 6},\n",
        "    \"martialarts\": {\"calories\": 9},\n",
        "    \"boxing\": {\"calories\": 11},\n",
        "    \"wrestling\": {\"calories\": 9},\n",
        "    \"plyometrics\": {\"calories\": 12},\n",
        "    \"parkour\": {\"calories\": 10},\n",
        "    \"gymnastics\": {\"calories\": 8},\n",
        "    \"ballet\": {\"calories\": 6},\n",
        "    \"salsadancing\": {\"calories\": 7},\n",
        "    \"ballroomdancing\": {\"calories\": 5},\n",
        "}\n",
        "\n",
        "# Push data to Firebase under the 'exercise' node\n",
        "for exercise, details in exercises.items():\n",
        "    db.child(\"exercise\").child(exercise).set(details)\n",
        "\n",
        "print(\"Exercise data uploaded successfully!\")"
      ],
      "metadata": {
        "colab": {
          "base_uri": "https://localhost:8080/"
        },
        "id": "Haei3EAr4frw",
        "outputId": "573f0eef-d4a0-4e22-d174-c5e565d34b00"
      },
      "execution_count": null,
      "outputs": [
        {
          "output_type": "stream",
          "name": "stdout",
          "text": [
            "Exercise data uploaded successfully!\n"
          ]
        }
      ]
    },
    {
      "cell_type": "code",
      "source": [
        "# Complete list of foods with calories per gram\n",
        "foods = {\n",
        "    \"milk\": 0.61,\n",
        "    \"sugar\": 3.87,\n",
        "    \"bread\": 2.65,\n",
        "    \"rice\": 1.30,\n",
        "    \"apple\": 0.52,\n",
        "    \"banana\": 0.89,\n",
        "    \"chickenbreast\": 1.65,\n",
        "    \"egg\": 1.43,\n",
        "    \"beef\": 2.50,\n",
        "    \"salmon\": 2.08,\n",
        "    \"potato\": 0.77,\n",
        "    \"carrot\": 0.41,\n",
        "    \"broccoli\": 0.34,\n",
        "    \"spinach\": 0.23,\n",
        "    \"tomato\": 0.18,\n",
        "    \"oliveoil\": 8.84,\n",
        "    \"butter\": 7.17,\n",
        "    \"cheese\": 4.04,\n",
        "    \"yogurt\": 0.61,\n",
        "    \"oatmeal\": 0.71,\n",
        "    \"peanutbutter\": 5.88,\n",
        "    \"almonds\": 5.79,\n",
        "    \"orange\": 0.47,\n",
        "    \"grapes\": 0.69,\n",
        "    \"avocado\": 1.60,\n",
        "    \"lettuce\": 0.15,\n",
        "    \"cucumber\": 0.15,\n",
        "    \"onion\": 0.40,\n",
        "    \"garlic\": 1.49,\n",
        "    \"peas\": 0.81,\n",
        "    \"corn\": 0.86,\n",
        "    \"pasta\": 1.58,\n",
        "    \"tuna\": 1.16,\n",
        "    \"turkeybreast\": 1.89,\n",
        "    \"porkchop\": 2.47,\n",
        "    \"lentils\": 1.16,\n",
        "    \"blackbeans\": 1.30,\n",
        "    \"quinoa\": 1.20,\n",
        "    \"sweetpotato\": 0.90,\n",
        "    \"cauliflower\": 0.25,\n",
        "    \"strawberries\": 0.32,\n",
        "    \"blueberries\": 0.57,\n",
        "    \"watermelon\": 0.30,\n",
        "    \"peach\": 0.39,\n",
        "    \"pineapple\": 0.50,\n",
        "    \"tofu\": 0.76,\n",
        "    \"hummus\": 1.66,\n",
        "    \"greekyogurt\": 0.59,\n",
        "    \"cottagecheese\": 0.98,\n",
        "    \"walnuts\": 6.54,\n",
        "    \"kiwi\": 0.61,\n",
        "    \"mango\": 0.60,\n",
        "    \"asparagus\": 0.27,\n",
        "    \"bellpepper\": 0.31,\n",
        "    \"zucchini\": 0.17,\n",
        "    \"eggplant\": 0.25,\n",
        "    \"mushrooms\": 0.22,\n",
        "    \"celery\": 0.16,\n",
        "    \"pear\": 0.57,\n",
        "    \"cherry\": 0.50,\n",
        "    \"plum\": 0.46,\n",
        "    \"pomegranate\": 0.83,\n",
        "    \"papaya\": 0.43,\n",
        "    \"coconut\": 3.54,\n",
        "    \"almondmilk\": 0.13,\n",
        "    \"soymilk\": 0.54,\n",
        "    \"brownrice\": 1.11,\n",
        "    \"wholewheatbread\": 2.47,\n",
        "    \"ryebread\": 2.59,\n",
        "    \"bagel\": 2.77,\n",
        "    \"croissant\": 4.06,\n",
        "    \"pancake\": 2.27,\n",
        "    \"waffle\": 3.12,\n",
        "    \"bacon\": 5.41,\n",
        "    \"ham\": 1.45,\n",
        "    \"salami\": 3.36,\n",
        "    \"sausage\": 3.01,\n",
        "    \"hotdog\": 2.47,\n",
        "    \"shrimp\": 0.99,\n",
        "    \"crabmeat\": 0.87,\n",
        "    \"lobster\": 0.89,\n",
        "    \"clams\": 1.48,\n",
        "    \"oysters\": 0.68,\n",
        "    \"mussels\": 1.72,\n",
        "    \"cod\": 0.82,\n",
        "    \"tilapia\": 1.28,\n",
        "    \"halibut\": 1.11,\n",
        "    \"trout\": 1.90,\n",
        "    \"sardines\": 2.08,\n",
        "    \"anchovies\": 1.31,\n",
        "    \"mackerel\": 2.05,\n",
        "    \"herring\": 2.17,\n",
        "    \"lambchop\": 2.94,\n",
        "    \"veal\": 1.43,\n",
        "    \"duck\": 3.37,\n",
        "    \"goose\": 3.71,\n",
        "    \"quail\": 2.27,\n",
        "    \"pheasant\": 1.33,\n",
        "    \"venison\": 1.58,\n",
        "    \"bison\": 1.43,\n",
        "    \"chickenthigh\": 2.20,\n",
        "    \"beefburger\": 2.85,\n",
        "    \"chickennuggets\": 2.50,\n",
        "    \"fishsticks\": 1.80,\n",
        "    \"meatballs\": 2.80,\n",
        "    \"falafel\": 2.20,\n",
        "    \"chickenwings\": 2.50,\n",
        "    \"turkeysausage\": 2.30,\n",
        "    \"porktenderloin\": 2.30,\n",
        "    \"lambshank\": 2.50,\n",
        "    \"beefstew\": 2.20,\n",
        "    \"chili\": 1.80,\n",
        "    \"macaroni\": 1.58,\n",
        "    \"lasagna\": 2.30,\n",
        "    \"pizza\": 2.80,\n",
        "    \"sushi\": 1.80,\n",
        "    \"tacos\": 2.20,\n",
        "    \"burrito\": 2.50,\n",
        "    \"chickenquesadilla\": 2.30,\n",
        "    \"beeftacos\": 2.50,\n",
        "    \"chickenfajitas\": 2.20,\n",
        "    \"steak\": 2.50,\n",
        "    \"roastbeef\": 2.30,\n",
        "    \"chickenparmesan\": 2.50,\n",
        "    \"eggrolls\": 2.30,\n",
        "    \"springrolls\": 2.20,\n",
        "    \"dumplings\": 2.30,\n",
        "    \"wontonsoup\": 1.80,\n",
        "    \"ramennoodles\": 1.58,\n",
        "    \"udonnoodles\": 1.58,\n",
        "    \"sobanoodles\": 1.30,\n",
        "    \"ricecakes\": 1.30,\n",
        "    \"granola\": 4.20,\n",
        "    \"cereal\": 3.50,\n",
        "    \"muffin\": 3.20,\n",
        "    \"scone\": 3.50,\n",
        "    \"croissantpastry\": 4.06,\n",
        "    \"danishpastry\": 4.20,\n",
        "    \"cinnamonroll\": 4.30,\n",
        "    \"baguette\": 2.65,\n",
        "    \"ciabatta\": 2.65,\n",
        "    \"focaccia\": 2.80,\n",
        "    \"naanbread\": 2.80,\n",
        "    \"pitabread\": 2.65,\n",
        "    \"tortilla\": 2.30,\n",
        "    \"crepes\": 2.20,\n",
        "    \"wafflesfrozen\": 3.12,\n",
        "    \"pancakesfrozen\": 2.27,\n",
        "    \"frenchtoast\": 2.50,\n",
        "    \"cinnamontoast\": 2.80\n",
        "}\n",
        "\n",
        "# Push data to Firebase under the 'nutrition' node\n",
        "for food, calories in foods.items():\n",
        "    db.child(\"nutrition\").child(food).set(calories)\n",
        "\n",
        "print(\"Nutrition data uploaded successfully!\")\n"
      ],
      "metadata": {
        "colab": {
          "base_uri": "https://localhost:8080/"
        },
        "id": "t4lUgwco5mU1",
        "outputId": "934143ae-0d33-410d-ed47-926590531688"
      },
      "execution_count": null,
      "outputs": [
        {
          "output_type": "stream",
          "name": "stdout",
          "text": [
            "Nutrition data uploaded successfully!\n"
          ]
        }
      ]
    },
    {
      "cell_type": "code",
      "source": [
        "food_synonyms = {\n",
        "    \"milk\": [\"milk\", \"dairy milk\", \"cow's milk\", \"whole milk\", \"skim milk\"],\n",
        "    \"sugar\": [\"sugar\", \"white sugar\", \"granulated sugar\", \"table sugar\", \"refined sugar\"],\n",
        "    \"bread\": [\"bread\", \"loaf\", \"sliced bread\", \"white bread\", \"sandwich bread\"],\n",
        "    \"rice\": [\"rice\", \"white rice\", \"brown rice\", \"steamed rice\", \"cooked rice\"],\n",
        "    \"apple\": [\"apple\", \"red apple\", \"green apple\", \"fruit apple\", \"fresh apple\"],\n",
        "    \"banana\": [\"banana\", \"ripe banana\", \"yellow banana\", \"fruit banana\", \"fresh banana\"],\n",
        "    \"chickenbreast\": [\"chicken breast\", \"chicken fillet\", \"boneless chicken\", \"skinless chicken breast\"],\n",
        "    \"egg\": [\"egg\", \"chicken egg\", \"boiled egg\", \"fried egg\", \"scrambled egg\"],\n",
        "    \"beef\": [\"beef\", \"ground beef\", \"steak\", \"roast beef\", \"beef cut\"],\n",
        "    \"salmon\": [\"salmon\", \"grilled salmon\", \"smoked salmon\", \"baked salmon\", \"fish fillet\"],\n",
        "    \"potato\": [\"potato\", \"spud\", \"baked potato\", \"mashed potato\", \"french fries\"],\n",
        "    \"carrot\": [\"carrot\", \"baby carrot\", \"sliced carrot\", \"diced carrot\", \"root vegetable\"],\n",
        "    \"broccoli\": [\"broccoli\", \"broccoli florets\", \"green vegetable\", \"cruciferous vegetable\"],\n",
        "    \"spinach\": [\"spinach\", \"baby spinach\", \"leafy green\", \"salad green\", \"Popeye's favorite\"],\n",
        "    \"tomato\": [\"tomato\", \"red tomato\", \"cherry tomato\", \"sliced tomato\", \"roma tomato\"],\n",
        "    \"oliveoil\": [\"olive oil\", \"extra virgin olive oil\", \"EVOO\", \"cooking oil\", \"salad oil\"],\n",
        "    \"butter\": [\"butter\", \"salted butter\", \"unsalted butter\", \"dairy spread\", \"margarine\"],\n",
        "    \"cheese\": [\"cheese\", \"cheddar\", \"mozzarella\", \"Swiss cheese\", \"dairy product\"],\n",
        "    \"yogurt\": [\"yogurt\", \"yoghurt\", \"Greek yogurt\", \"flavored yogurt\", \"cultured milk\"],\n",
        "    \"oatmeal\": [\"oatmeal\", \"rolled oats\", \"porridge\", \"instant oats\", \"breakfast cereal\"],\n",
        "    \"peanutbutter\": [\"peanut butter\", \"PB\", \"nut spread\", \"peanut spread\", \"creamy peanut butter\"],\n",
        "    \"almonds\": [\"almonds\", \"roasted almonds\", \"sliced almonds\", \"nuts\", \"tree nuts\"],\n",
        "    \"orange\": [\"orange\", \"citrus fruit\", \"navel orange\", \"mandarin\", \"tangerine\"],\n",
        "    \"grapes\": [\"grapes\", \"red grapes\", \"green grapes\", \"seedless grapes\", \"wine grapes\"],\n",
        "    \"avocado\": [\"avocado\", \"avocado fruit\", \"alligator pear\", \"guacamole fruit\", \"butter fruit\"],\n",
        "    \"lettuce\": [\"lettuce\", \"iceberg lettuce\", \"romaine lettuce\", \"salad greens\", \"leafy vegetable\"],\n",
        "    \"cucumber\": [\"cucumber\", \"cuke\", \"gherkin\", \"pickles\", \"slicing cucumber\"],\n",
        "    \"onion\": [\"onion\", \"red onion\", \"white onion\", \"yellow onion\", \"diced onion\"],\n",
        "    \"garlic\": [\"garlic\", \"garlic clove\", \"minced garlic\", \"allium\", \"garlic bulb\"],\n",
        "    \"peas\": [\"peas\", \"green peas\", \"garden peas\", \"frozen peas\", \"legumes\"],\n",
        "    \"corn\": [\"corn\", \"maize\", \"sweet corn\", \"corn on the cob\", \"kernel\"],\n",
        "    \"pasta\": [\"pasta\", \"noodles\", \"spaghetti\", \"penne\", \"fettuccine\"],\n",
        "    \"tuna\": [\"tuna\", \"canned tuna\", \"tuna fish\", \"yellowfin tuna\", \"albacore\"],\n",
        "    \"turkeybreast\": [\"turkey breast\", \"sliced turkey\", \"deli turkey\", \"roasted turkey breast\"],\n",
        "    \"porkchop\": [\"pork chop\", \"grilled pork\", \"fried pork chop\", \"boneless pork chop\"],\n",
        "    \"lentils\": [\"lentils\", \"red lentils\", \"green lentils\", \"brown lentils\", \"legumes\"],\n",
        "    \"blackbeans\": [\"black beans\", \"frijoles negros\", \"turtle beans\", \"legumes\", \"pulses\"],\n",
        "    \"quinoa\": [\"quinoa\", \"keen-wah\", \"ancient grain\", \"superfood\", \"protein-rich grain\"],\n",
        "    \"sweetpotato\": [\"sweet potato\", \"yam\", \"orange potato\", \"candied yams\", \"baked sweet potato\"],\n",
        "    \"cauliflower\": [\"cauliflower\", \"cauliflower florets\", \"white broccoli\", \"cruciferous vegetable\"],\n",
        "    \"strawberries\": [\"strawberries\", \"strawberry\", \"red berries\", \"garden strawberries\", \"fresh strawberries\"],\n",
        "    \"blueberries\": [\"blueberries\", \"blueberry\", \"blue fruit\", \"antioxidant berries\", \"wild blueberries\"],\n",
        "    \"watermelon\": [\"watermelon\", \"melon\", \"summer fruit\", \"watermelon slices\", \"seedless watermelon\"],\n",
        "    \"peach\": [\"peach\", \"stone fruit\", \"fuzzy fruit\", \"nectarine\", \"clingstone peach\"],\n",
        "    \"pineapple\": [\"pineapple\", \"ananas\", \"tropical fruit\", \"pineapple chunks\", \"Hawaiian fruit\"],\n",
        "    \"tofu\": [\"tofu\", \"bean curd\", \"soybean curd\", \"vegetarian protein\", \"plant-based protein\"],\n",
        "    \"hummus\": [\"hummus\", \"chickpea dip\", \"garbanzo bean spread\", \"Mediterranean dip\"],\n",
        "    \"greekyogurt\": [\"Greek yogurt\", \"strained yogurt\", \"thick yogurt\", \"protein-rich yogurt\"],\n",
        "    \"cottagecheese\": [\"cottage cheese\", \"curds\", \"fresh cheese\", \"low-fat cheese\"],\n",
        "    \"walnuts\": [\"walnuts\", \"tree nuts\", \"brain food\", \"baking nuts\", \"candied walnuts\"],\n",
        "    \"kiwi\": [\"kiwi\", \"kiwifruit\", \"Chinese gooseberry\", \"fuzzy fruit\", \"green fruit\"],\n",
        "    \"mango\": [\"mango\", \"tropical fruit\", \"stone fruit\", \"yellow fruit\", \"mango slices\"],\n",
        "    \"asparagus\": [\"asparagus\", \"asparagus spears\", \"green vegetable\", \"spring vegetable\"],\n",
        "    \"bellpepper\": [\"bell pepper\", \"capsicum\", \"sweet pepper\", \"colored pepper\", \"paprika\"],\n",
        "    \"zucchini\": [\"zucchini\", \"courgette\", \"summer squash\", \"green squash\", \"Italian squash\"],\n",
        "    \"eggplant\": [\"eggplant\", \"aubergine\", \"brinjal\", \"purple vegetable\", \"nightshade\"],\n",
        "    \"mushrooms\": [\"mushrooms\", \"button mushrooms\", \"portobello\", \"shiitake\", \"fungi\"],\n",
        "    \"celery\": [\"celery\", \"celery sticks\", \"crunchy vegetable\", \"ants on a log ingredient\"],\n",
        "    \"pear\": [\"pear\", \"Bartlett pear\", \"Anjou pear\", \"Bosc pear\", \"fruit\"],\n",
        "    \"cherry\": [\"cherry\", \"Bing cherry\", \"Maraschino cherry\", \"sour cherry\", \"stone fruit\"],\n",
        "    \"plum\": [\"plum\", \"prune\", \"stone fruit\", \"purple fruit\", \"damson\"],\n",
        "    \"pomegranate\": [\"pomegranate\", \"pom fruit\", \"seeded fruit\", \"antioxidant fruit\", \"ruby fruit\"],\n",
        "    \"papaya\": [\"papaya\", \"pawpaw\", \"tropical fruit\", \"melon tree fruit\"],\n",
        "    \"coconut\": [\"coconut\", \"coconut meat\", \"tropical nut\", \"coco\", \"copra\"],\n",
        "    \"almondmilk\": [\"almond milk\", \"plant-based milk\", \"dairy alternative\", \"nut milk\"],\n",
        "    \"soymilk\": [\"soy milk\", \"soya milk\", \"plant-based milk\", \"dairy alternative\"],\n",
        "    \"brownrice\": [\"brown rice\", \"whole grain rice\", \"unpolished rice\", \"healthy rice\"],\n",
        "    \"wholewheatbread\": [\"whole wheat bread\", \"brown bread\", \"wholemeal bread\", \"grain bread\"],\n",
        "    \"ryebread\": [\"rye bread\", \"dark bread\", \"pumpernickel\", \"Jewish rye\"],\n",
        "    \"bagel\": [\"bagel\", \"breakfast bread\", \"round bread\", \"boiled bread\", \"New York bagel\"],\n",
        "    \"croissant\": [\"croissant\", \"French pastry\", \"crescent roll\", \"butter croissant\"],\n",
        "    \"pancake\": [\"pancake\", \"flapjack\", \"hotcake\", \"griddle cake\", \"crepe\"],\n",
        "    \"waffle\": [\"waffle\", \"Belgian waffle\", \"breakfast food\", \"grid cake\"],\n",
        "    \"bacon\": [\"bacon\", \"pork belly\", \"rashers\", \"streaky bacon\", \"Canadian bacon\"],\n",
        "    \"ham\": [\"ham\", \"cured pork\", \"deli meat\", \"prosciutto\", \"Serrano ham\"],\n",
        "    \"salami\": [\"salami\", \"cured sausage\", \"deli meat\", \"pepperoni\", \"hard sausage\"],\n",
        "    \"sausage\": [\"sausage\", \"bratwurst\", \"frankfurter\", \"hot dog\", \"kielbasa\"],\n",
        "    \"hotdog\": [\"hot dog\", \"frankfurter\", \"wiener\", \"sausage in a bun\", \"ballpark food\"],\n",
        "    \"shrimp\": [\"shrimp\", \"prawns\", \"shellfish\", \"seafood\", \"cocktail shrimp\"],\n",
        "    \"crabmeat\": [\"crab meat\", \"crab\", \"shellfish\", \"seafood\", \"crustacean\"],\n",
        "    \"lobster\": [\"lobster\", \"shellfish\", \"seafood\", \"crustacean\", \"Maine lobster\"],\n",
        "    \"clams\": [\"clams\", \"shellfish\", \"bivalves\", \"seafood\", \"steamers\"],\n",
        "    \"oysters\": [\"oysters\", \"shellfish\", \"bivalves\", \"seafood\", \"aphrodisiac\"],\n",
        "    \"mussels\": [\"mussels\", \"shellfish\", \"bivalves\", \"seafood\", \"blue mussels\"],\n",
        "    \"cod\": [\"cod\", \"white fish\", \"fish fillet\", \"Atlantic cod\", \"Pacific cod\"],\n",
        "    \"tilapia\": [\"tilapia\", \"white fish\", \"mild fish\", \"farm-raised fish\"],\n",
        "    \"halibut\": [\"halibut\", \"flatfish\", \"white fish\", \"Pacific halibut\"],\n",
        "    \"trout\": [\"trout\", \"freshwater fish\", \"rainbow trout\", \"brook trout\"],\n",
        "    \"sardines\": [\"sardines\", \"pilchards\", \"canned fish\", \"oily fish\"],\n",
        "    \"anchovies\": [\"anchovies\", \"small fish\", \"pizza topping\", \"Caesar salad ingredient\"],\n",
        "    \"mackerel\": [\"mackerel\", \"oily fish\", \"Atlantic mackerel\", \"Spanish mackerel\"],\n",
        "    \"herring\": [\"herring\", \"oily fish\", \"pickled herring\", \"kipper\"],\n",
        "    \"lambchop\": [\"lamb chop\", \"mutton chop\", \"grilled lamb\", \"rack of lamb\"],\n",
        "    \"veal\": [\"veal\", \"young beef\", \"calf meat\", \"wiener schnitzel\"],\n",
        "    \"duck\": [\"duck\", \"poultry\", \"roast duck\", \"Peking duck\", \"duck breast\"],\n",
        "    \"goose\": [\"goose\", \"poultry\", \"Christmas goose\", \"foie gras\"],\n",
        "    \"quail\": [\"quail\", \"game bird\", \"small poultry\", \"quail eggs\"],\n",
        "    \"pheasant\": [\"pheasant\", \"game bird\", \"wild bird\", \"roast pheasant\"],\n",
        "    \"venison\": [\"venison\", \"deer meat\", \"game meat\", \"red meat\"],\n",
        "    \"bison\": [\"bison\", \"buffalo meat\", \"lean red meat\", \"game meat\"],\n",
        "    \"chickenthigh\": [\"chicken thigh\", \"dark meat chicken\", \"drumstick\", \"poultry\"],\n",
        "    \"beefburger\": [\"beef burger\", \"hamburger\", \"cheeseburger\", \"patty\"],\n",
        "    \"chickennuggets\": [\"chicken nuggets\", \"nuggets\", \"fast food\", \"kid's meal\"],\n",
        "    \"fishsticks\": [\"fish sticks\", \"fish fingers\", \"breaded fish\", \"frozen fish\"],\n",
        "    \"meatballs\": [\"meatballs\", \"Swedish meatballs\", \"Italian meatballs\", \"ground meat balls\"],\n",
        "    \"falafel\": [\"falafel\", \"chickpea balls\", \"vegetarian balls\", \"Middle Eastern food\"],\n",
        "    \"chickenwings\": [\"chicken wings\", \"buffalo wings\", \"hot wings\", \"drumettes\"],\n",
        "    \"turkeysausage\": [\"turkey sausage\", \"poultry sausage\", \"breakfast sausage\", \"lean sausage\"],\n",
        "    \"porktenderloin\": [\"pork tenderloin\", \"pork fillet\", \"lean pork\", \"roast pork\"],\n",
        "    \"lambshank\": [\"lamb shank\", \"braised lamb\", \"slow-cooked lamb\", \"osso buco\"],\n",
        "    \"beefstew\": [\"beef stew\", \"beef bourguignon\", \"pot roast\", \"slow-cooked beef\"],\n",
        "    \"chili\": [\"chili\", \"chili con carne\", \"bean stew\", \"spicy stew\"],\n",
        "    \"macaroni\": [\"macaroni\", \"elbow pasta\", \"mac and cheese\", \"pasta\"],\n",
        "    \"lasagna\": [\"lasagna\", \"lasagne\", \"pasta casserole\", \"Italian pasta dish\"],\n",
        "    \"pizza\": [\"pizza\", \"pie\", \"flatbread\", \"Margherita\", \"pepperoni pizza\"],\n",
        "    \"sushi\": [\"sushi\", \"maki\", \"nigiri\", \"sashimi\", \"Japanese food\"],\n",
        "    \"tacos\": [\"tacos\", \"Mexican food\", \"tortilla with filling\", \"street food\"],\n",
        "    \"burrito\": [\"burrito\", \"wrap\", \"Mexican food\", \"bean burrito\", \"breakfast burrito\"],\n",
        "    \"chickenquesadilla\": [\"chicken quesadilla\", \"grilled tortilla\", \"Mexican food\", \"cheesy chicken\"],\n",
        "    \"beeftacos\": [\"beef tacos\", \"carne asada tacos\", \"ground beef tacos\", \"Mexican food\"],\n",
        "    \"chickenfajitas\": [\"chicken fajitas\", \"grilled chicken strips\", \"Mexican food\", \"sizzling fajitas\"],\n",
        "    \"steak\": [\"steak\", \"beef steak\", \"sirloin\", \"ribeye\", \"filet mignon\"],\n",
        "    \"roastbeef\": [\"roast beef\", \"Sunday roast\", \"beef roast\", \"deli meat\"],\n",
        "    \"chickenparmesan\": [\"chicken parmesan\", \"chicken parm\", \"Italian chicken\", \"breaded chicken\"],\n",
        "    \"eggrolls\": [\"egg rolls\", \"spring rolls\", \"fried rolls\", \"Chinese appetizer\"],\n",
        "    \"springrolls\": [\"spring rolls\", \"fresh rolls\", \"Vietnamese rolls\", \"rice paper rolls\"],\n",
        "    \"dumplings\": [\"dumplings\", \"potstickers\", \"gyoza\", \"dim sum\", \"pierogies\"],\n",
        "    \"wontonsoup\": [\"wonton soup\", \"dumpling soup\", \"Chinese soup\", \"clear broth soup\"],\n",
        "    \"ramennoodles\": [\"ramen noodles\", \"instant noodles\", \"Japanese noodle soup\", \"cup noodles\"],\n",
        "    \"udonnoodles\": [\"udon noodles\", \"thick wheat noodles\", \"Japanese noodles\", \"stir-fry noodles\"],\n",
        "    \"sobanoodles\": [\"soba noodles\", \"buckwheat noodles\", \"Japanese noodles\", \"cold noodles\"],\n",
        "    \"ricecakes\": [\"rice cakes\", \"crispy rice\", \"snack cakes\", \"Japanese rice crackers\"],\n",
        "    \"granola\": [\"granola\", \"breakfast cereal\", \"muesli\", \"oat-based snack\"],\n",
        "    \"cereal\": [\"cereal\", \"breakfast cereal\", \"oatmeal\", \"cornflakes\"],\n",
        "    \"muffin\": [\"muffin\", \"blueberry muffin\", \"breakfast pastry\", \"cupcake\"],\n",
        "    \"scone\": [\"scone\", \"British scone\", \"baked good\", \"afternoon tea\"],\n",
        "    \"croissantpastry\": [\"croissant pastry\", \"flaky pastry\", \"French pastry\", \"buttery pastry\"],\n",
        "    \"danishpastry\": [\"Danish pastry\", \"layered pastry\", \"sweet pastry\", \"fruit-filled pastry\"],\n",
        "    \"cinnamonroll\": [\"cinnamon roll\", \"sweet roll\", \"breakfast pastry\", \"Swedish pastry\"],\n",
        "    \"baguette\": [\"baguette\", \"French bread\", \"long bread\", \"crusty bread\"],\n",
        "    \"ciabatta\": [\"ciabatta\", \"Italian bread\", \"airy bread\", \"rustic bread\"],\n",
        "    \"focaccia\": [\"focaccia\", \"Italian flatbread\", \"herb bread\", \"olive oil bread\"],\n",
        "    \"naanbread\": [\"naan bread\", \"Indian flatbread\", \"leavened bread\", \"tandoor bread\"],\n",
        "    \"pitabread\": [\"pita bread\", \"Middle Eastern flatbread\", \"pocket bread\", \"gyro bread\"],\n",
        "    \"tortilla\": [\"tortilla\", \"Mexican flatbread\", \"corn tortilla\", \"flour tortilla\"],\n",
        "    \"crepes\": [\"crepes\", \"thin pancakes\", \"French crepes\", \"breakfast crepes\"],\n",
        "    \"wafflesfrozen\": [\"frozen waffles\", \"breakfast waffles\", \"Belgian waffles\", \"frozen breakfast food\"],\n",
        "    \"pancakesfrozen\": [\"frozen pancakes\", \"breakfast pancakes\", \"frozen breakfast food\", \"buttermilk pancakes\"],\n",
        "    \"frenchtoast\": [\"French toast\", \"breakfast toast\", \"eggy bread\", \"syrup toast\"],\n",
        "    \"cinnamontoast\": [\"cinnamon toast\", \"sweet toast\", \"breakfast toast\", \"cinnamon sugar toast\"]\n",
        "}\n",
        "\n"
      ],
      "metadata": {
        "id": "O6ZuLTFtI9lF"
      },
      "execution_count": null,
      "outputs": []
    },
    {
      "cell_type": "code",
      "source": [
        "import csv\n",
        "from google.colab import files\n",
        "with open('food.csv', 'w', newline='', encoding='utf-8') as csvfile:\n",
        "  writer = csv.writer(csvfile, quoting=csv.QUOTE_ALL) #quote all fields\n",
        "  for food, synonyms in food_synonyms.items():\n",
        "    row = [food, \",\".join(synonyms)]\n",
        "    writer.writerow(row)\n",
        "\n",
        "\n",
        "files.download(\"food.csv\")"
      ],
      "metadata": {
        "colab": {
          "base_uri": "https://localhost:8080/",
          "height": 17
        },
        "id": "ObVOhG2jJKu4",
        "outputId": "1fa3ec7e-c972-4de2-dad5-6f1921ec9d1a"
      },
      "execution_count": null,
      "outputs": [
        {
          "output_type": "display_data",
          "data": {
            "text/plain": [
              "<IPython.core.display.Javascript object>"
            ],
            "application/javascript": [
              "\n",
              "    async function download(id, filename, size) {\n",
              "      if (!google.colab.kernel.accessAllowed) {\n",
              "        return;\n",
              "      }\n",
              "      const div = document.createElement('div');\n",
              "      const label = document.createElement('label');\n",
              "      label.textContent = `Downloading \"${filename}\": `;\n",
              "      div.appendChild(label);\n",
              "      const progress = document.createElement('progress');\n",
              "      progress.max = size;\n",
              "      div.appendChild(progress);\n",
              "      document.body.appendChild(div);\n",
              "\n",
              "      const buffers = [];\n",
              "      let downloaded = 0;\n",
              "\n",
              "      const channel = await google.colab.kernel.comms.open(id);\n",
              "      // Send a message to notify the kernel that we're ready.\n",
              "      channel.send({})\n",
              "\n",
              "      for await (const message of channel.messages) {\n",
              "        // Send a message to notify the kernel that we're ready.\n",
              "        channel.send({})\n",
              "        if (message.buffers) {\n",
              "          for (const buffer of message.buffers) {\n",
              "            buffers.push(buffer);\n",
              "            downloaded += buffer.byteLength;\n",
              "            progress.value = downloaded;\n",
              "          }\n",
              "        }\n",
              "      }\n",
              "      const blob = new Blob(buffers, {type: 'application/binary'});\n",
              "      const a = document.createElement('a');\n",
              "      a.href = window.URL.createObjectURL(blob);\n",
              "      a.download = filename;\n",
              "      div.appendChild(a);\n",
              "      a.click();\n",
              "      div.remove();\n",
              "    }\n",
              "  "
            ]
          },
          "metadata": {}
        },
        {
          "output_type": "display_data",
          "data": {
            "text/plain": [
              "<IPython.core.display.Javascript object>"
            ],
            "application/javascript": [
              "download(\"download_ec3e9743-daa0-4ebd-8593-36baab3f87ff\", \"food.csv\", 10198)"
            ]
          },
          "metadata": {}
        }
      ]
    },
    {
      "cell_type": "code",
      "source": [
        "exercise_synonyms = {\n",
        "    \"running\": [\"run\", \"jog\", \"sprint\", \"dash\", \"trot\", \"race\"],\n",
        "    \"jumpingrope\": [\"jump rope\", \"skipping rope\", \"rope skipping\", \"skip rope\", \"rope jumping\", \"jump roping\"],\n",
        "    \"hiit\": [\"high intensity interval training\", \"high-intensity workout\", \"interval training\", \"circuit training\", \"tabata\", \"intense cardio\"],\n",
        "    \"swimming\": [\"swim\", \"aquatics\", \"water exercise\", \"pool workout\", \"lap swimming\", \"water aerobics\"],\n",
        "    \"cycling\": [\"bike riding\", \"biking\", \"pedaling\", \"bicycle riding\", \"spin class\", \"road cycling\"],\n",
        "    \"burpees\": [\"squat thrusts\", \"up-downs\", \"full body exercise\", \"military burpees\", \"four-count burpees\", \"mountain climber burpees\"],\n",
        "    \"mountainclimbers\": [\"mountain climbers\", \"running planks\", \"alternating knee-ins\", \"cross body mountain climbers\", \"sliding mountain climbers\", \"plank jacks\"],\n",
        "    \"squats\": [\"knee bends\", \"air squats\", \"bodyweight squats\", \"deep knee bends\", \"sumo squats\", \"prisoner squats\"],\n",
        "    \"pushups\": [\"press-ups\", \"push-ups\", \"chest press\", \"floor press\", \"incline pushups\", \"decline pushups\"],\n",
        "    \"pullups\": [\"pull-ups\", \"chin-ups\", \"bar pulls\", \"vertical pulls\", \"overhand pullups\", \"underhand pullups\"],\n",
        "    \"lunges\": [\"split squats\", \"walking lunges\", \"alternating lunges\", \"reverse lunges\", \"side lunges\", \"curtsy lunges\"],\n",
        "    \"plank\": [\"forearm plank\", \"elbow plank\", \"high plank\", \"low plank\", \"side plank\", \"plank hold\"],\n",
        "    \"situps\": [\"sit-ups\", \"crunches\", \"abdominal curls\", \"v-ups\", \"jackknife situps\", \"bicycle situps\"],\n",
        "    \"crunches\": [\"abdominal crunches\", \"curl-ups\", \"core crunches\", \"reverse crunches\", \"bicycle crunches\", \"twist crunches\"],\n",
        "    \"legraises\": [\"leg lifts\", \"lying leg raises\", \"hanging leg raises\", \"captain's chair leg raises\", \"flutter kicks\", \"scissors\"],\n",
        "    \"kettlebellswings\": [\"kettlebell swings\", \"Russian swings\", \"American swings\", \"two-handed swings\", \"one-arm swings\", \"kettlebell snatches\"],\n",
        "    \"boxjumps\": [\"box jumps\", \"plyo box jumps\", \"step-ups\", \"depth jumps\", \"jump-overs\", \"box jump burpees\"],\n",
        "    \"rowingmachine\": [\"rowing\", \"ergometer\", \"indoor rowing\", \"rowing ergometer\", \"concept2 rowing\", \"water rower\"],\n",
        "    \"elliptical\": [\"cross-trainer\", \"elliptical trainer\", \"elliptical machine\", \"oval machine\", \"glider\", \"strider\"],\n",
        "    \"stairclimbing\": [\"stair climbing\", \"stair master\", \"step mill\", \"stair stepper\", \"staircase workout\", \"stadium stairs\"],\n",
        "    \"aerobicdancing\": [\"aerobic dance\", \"cardio dance\", \"dance fitness\", \"dance workout\", \"rhythmic exercise\", \"dance aerobics\"],\n",
        "    \"zumba\": [\"Latin dance fitness\", \"Zumba fitness\", \"dance party workout\", \"Latin-inspired workout\", \"Zumba class\", \"rhythmic exercise\"],\n",
        "    \"kickboxing\": [\"cardio kickboxing\", \"boxing fitness\", \"martial arts fitness\", \"punch and kick workout\", \"fight-inspired cardio\", \"combat fitness\"],\n",
        "    \"pilates\": [\"Pilates method\", \"core strengthening\", \"Pilates mat work\", \"reformer Pilates\", \"Joseph Pilates method\", \"mind-body exercise\"],\n",
        "    \"yoga\": [\"asanas\", \"vinyasa\", \"hatha yoga\", \"power yoga\", \"ashtanga\", \"bikram yoga\"],\n",
        "    \"walking\": [\"power walking\", \"brisk walking\", \"speed walking\", \"Nordic walking\", \"race walking\", \"treadmill walking\"],\n",
        "    \"jogging\": [\"slow run\", \"easy run\", \"jog\", \"light running\", \"steady-state cardio\", \"endurance running\"],\n",
        "    \"sprinting\": [\"dash\", \"all-out run\", \"fast running\", \"speed work\", \"sprint intervals\", \"explosive running\"],\n",
        "    \"basketball\": [\"hoops\", \"b-ball\", \"roundball\", \"court game\", \"basket\", \"streetball\"],\n",
        "    \"soccer\": [\"football\", \"futbol\", \"association football\", \"the beautiful game\", \"soccer football\", \"footy\"],\n",
        "    \"tennis\": [\"court tennis\", \"lawn tennis\", \"racquet sport\", \"singles tennis\", \"doubles tennis\", \"tennis match\"],\n",
        "    \"volleyball\": [\"beach volleyball\", \"indoor volleyball\", \"volley\", \"spike ball\", \"bump-set-spike\", \"sand volleyball\"],\n",
        "    \"badminton\": [\"shuttlecock\", \"racquet sport\", \"birdie game\", \"featherball\", \"indoor badminton\", \"outdoor badminton\"],\n",
        "    \"tabletennis\": [\"ping pong\", \"whiff whaff\", \"table tennis game\", \"indoor tennis\", \"paddle tennis\", \"ping-pong\"],\n",
        "    \"golf\": [\"golfing\", \"links\", \"fairway game\", \"club sport\", \"putting\", \"driving range\"],\n",
        "    \"bowling\": [\"ten-pin bowling\", \"alley bowling\", \"lane bowling\", \"candlepin bowling\", \"duckpin bowling\", \"five-pin bowling\"],\n",
        "    \"frisbee\": [\"disc throwing\", \"ultimate frisbee\", \"disc golf\", \"flying disc\", \"frisbee toss\", \"disc game\"],\n",
        "    \"hulahooping\": [\"hula hoop\", \"hooping\", \"hoop dance\", \"hula hooping exercise\", \"waist hooping\", \"hoop fitness\"],\n",
        "    \"jumpsquats\": [\"squat jumps\", \"jumping squats\", \"explosive squats\", \"plyometric squats\", \"power squats\", \"squat thrusts\"],\n",
        "    \"jumpingjacks\": [\"side-straddle hops\", \"star jumps\", \"jumping jacks exercise\", \"full-body jacks\", \"seal jacks\", \"cross-jacks\"],\n",
        "    \"highknees\": [\"high knee runs\", \"high knee marches\", \"knee lifts\", \"high knee skips\", \"running in place\", \"knee drives\"],\n",
        "    \"buttkicks\": [\"butt kicks\", \"heel kicks\", \"kick backs\", \"hamstring curls\", \"running butt kicks\", \"jogging butt kicks\"],\n",
        "    \"bearcrawls\": [\"bear crawl exercise\", \"quadrupedal movement\", \"bear walk\", \"crawling exercise\", \"all-fours crawl\", \"bear crawl intervals\"],\n",
        "    \"inchworms\": [\"inchworm exercise\", \"walkout\", \"inchworm pushups\", \"standing inchworms\", \"inchworm planks\", \"inchworm walks\"],\n",
        "    \"wallsits\": [\"wall sits\", \"wall squats\", \"static squats\", \"Roman chair exercise\", \"isometric squats\", \"wall hold\"],\n",
        "    \"tricepdips\": [\"tricep dips\", \"bench dips\", \"chair dips\", \"bodyweight tricep exercise\", \"parallel bar dips\", \"triceps extensions\"],\n",
        "    \"bicepcurls\": [\"bicep curls\", \"arm curls\", \"dumbbell curls\", \"barbell curls\", \"hammer curls\", \"concentration curls\"],\n",
        "    \"shoulderpress\": [\"overhead press\", \"military press\", \"dumbbell shoulder press\", \"barbell shoulder press\", \"push press\", \"seated shoulder press\"],\n",
        "    \"deadlifts\": [\"deadlift exercise\", \"Romanian deadlifts\", \"straight leg deadlifts\", \"sumo deadlifts\", \"trap bar deadlifts\", \"single leg deadlifts\"],\n",
        "    \"benchpress\": [\"chest press\", \"barbell bench press\", \"dumbbell bench press\", \"incline bench press\", \"decline bench press\", \"close-grip bench press\"],\n",
        "    \"latpulldowns\": [\"lat pulldowns\", \"cable pulldowns\", \"behind-the-neck pulldowns\", \"wide-grip pulldowns\", \"close-grip pulldowns\", \"single-arm pulldowns\"],\n",
        "    \"legpress\": [\"leg press machine\", \"sled press\", \"vertical leg press\", \"seated leg press\", \"single leg press\", \"hack squat machine\"],\n",
        "    \"calfraises\": [\"calf raises\", \"standing calf raises\", \"seated calf raises\", \"single leg calf raises\", \"donkey calf raises\", \"machine calf raises\"],\n",
        "    \"russiantwists\": [\"Russian twists exercise\", \"seated twists\", \"medicine ball twists\", \"oblique twists\", \"weighted Russian twists\", \"decline Russian twists\"],\n",
        "    \"plankjacks\": [\"plank jacks exercise\", \"jumping jack planks\", \"plank jack burpees\", \"mountain climber jacks\", \"plank jack pushups\", \"lateral plank jacks\"],\n",
        "    \"sideplanks\": [\"side plank exercise\", \"lateral plank\", \"oblique plank\", \"elbow side plank\", \"side plank rotations\", \"side plank dips\"],\n",
        "    \"supermanholds\": [\"superman exercise\", \"back extensions\", \"prone back raises\", \"swimmer exercise\", \"alternating superman\", \"superman rocks\"],\n",
        "    \"birddogs\": [\"bird dog exercise\", \"quadruped limb raises\", \"pointer exercise\", \"opposite arm and leg extensions\", \"kneeling balance exercise\", \"core stability exercise\"],\n",
        "    \"glutebridges\": [\"glute bridges\", \"hip raises\", \"pelvic lifts\", \"supine hip extensions\", \"single leg glute bridges\", \"weighted glute bridges\"],\n",
        "    \"firehydrants\": [\"fire hydrants exercise\", \"hip abductions\", \"quadruped hip extensions\", \"dog leg lifts\", \"lateral leg lifts\", \"hydrant kicks\"],\n",
        "    \"donkeykicks\": [\"donkey kicks\", \"quadruped hip extensions\", \"glute kickbacks\", \"mule kicks\", \"all-fours leg lifts\", \"bent-knee glute kicks\"],\n",
        "    \"bicyclecrunches\": [\"bicycle crunches\", \"bike crunches\", \"elbow-to-knee crunches\", \"alternating crunches\", \"scissor crunches\", \"cross-body crunches\"],\n",
        "    \"skaters\": [\"skater hops\", \"lateral bounds\", \"speed skaters\", \"side-to-side hops\", \"skating jumps\", \"lateral skater jumps\"],\n",
        "    \"tuckjumps\": [\"tuck jumps\", \"knee tuck jumps\", \"squat jumps with tuck\", \"jumping tucks\", \"explosive tuck jumps\", \"plyometric tuck jumps\"],\n",
        "    \"squatjumps\": [\"squat jumps\", \"jump squats\", \"explosive squats\", \"power jumps\", \"vertical jumps\", \"jumping squats\"],\n",
        "    \"lungejumps\": [\"lunge jumps\", \"split jumps\", \"alternating jump lunges\", \"plyometric lunges\", \"scissor jumps\", \"jumping split squats\"],\n",
        "    \"battleropes\": [\"battle ropes\", \"rope slams\", \"rope waves\", \"rope whips\", \"alternating waves\", \"rope exercises\"],\n",
        "    \"medicineballslams\": [\"medicine ball slams\", \"ball slams\", \"overhead slams\", \"rotational slams\", \"wall ball slams\", \"squat to slam\"],\n",
        "    \"resistancebands\": [\"resistance band exercises\", \"elastic band workouts\", \"tube band training\", \"stretch band exercises\", \"rubber band fitness\", \"loop band workouts\"],\n",
        "    \"trx\": [\"TRX suspension training\", \"suspension exercises\", \"bodyweight straps\", \"TRX workouts\", \"suspension trainer exercises\", \"hanging strap exercises\"],\n",
        "    \"foamrolling\": [\"foam rolling\", \"self-myofascial release\", \"roller massage\", \"muscle rolling\", \"trigger point rolling\", \"fascia release\"],\n",
        "    \"stretching\": [\"flexibility exercises\", \"static stretching\", \"dynamic stretching\", \"mobility work\", \"range of motion exercises\", \"yoga stretches\"],\n",
        "    \"taichi\": [\"tai chi\", \"taijiquan\", \"Chinese martial art\", \"moving meditation\", \"slow motion exercise\", \"mind-body practice\"],\n",
        "    \"barre\": [\"barre workout\", \"ballet-inspired fitness\", \"barre method\", \"ballet barre exercise\", \"Lotte Berk method\", \"pulsing exercises\"],\n",
        "    \"spinning\": [\"indoor cycling\", \"spin class\", \"cycle studio\", \"stationary bike workout\", \"RPM class\", \"group cycling\"],\n",
        "    \"rockclimbing\": [\"rock climbing\", \"bouldering\", \"wall climbing\", \"sport climbing\", \"indoor climbing\", \"free climbing\"],\n",
        "    \"kayaking\": [\"kayak paddling\", \"sea kayaking\", \"river kayaking\", \"whitewater kayaking\", \"recreational kayaking\", \"kayak touring\"],\n",
        "    \"canoeing\": [\"canoe paddling\", \"canoeing sport\", \"open-boat paddling\", \"river canoeing\", \"lake canoeing\", \"canoe touring\"],\n",
        "    \"paddleboarding\": [\"stand-up paddleboarding\", \"SUP\", \"paddle surfing\", \"stand-up paddle\", \"SUP yoga\", \"paddle boarding\"],\n",
        "    \"surfing\": [\"wave riding\", \"board surfing\", \"longboarding\", \"shortboarding\", \"surf riding\", \"wave catching\"],\n",
        "    \"skateboarding\": [\"skating\", \"street skating\", \"vert skating\", \"longboarding\", \"cruising\", \"skate park riding\"],\n",
        "    \"rollerblading\": [\"inline skating\", \"roller skating\", \"blade skating\", \"aggressive inline\", \"speed skating\", \"recreational skating\"],\n",
        "    \"iceskating\": [\"figure skating\", \"ice dancing\", \"speed skating\", \"recreational skating\", \"ice hockey skating\", \"artistic skating\"],\n",
        "    \"crosscountryskiing\": [\"Nordic skiing\", \"XC skiing\", \"ski touring\", \"langlauf\", \"cross-country racing\", \"skate skiing\"],\n",
        "    \"downhillskiing\": [\"alpine skiing\", \"ski resort skiing\", \"slalom skiing\", \"recreational skiing\", \"powder skiing\", \"piste skiing\"],\n",
        "    \"snowboarding\": [\"snow riding\", \"shredding\", \"carving\", \"freestyle snowboarding\", \"freeride snowboarding\", \"alpine snowboarding\"],\n",
        "    \"sledding\": [\"sleigh riding\", \"tobogganing\", \"snow tubing\", \"luge\", \"bobsledding\", \"skeleton sledding\"],\n",
        "    \"horsebackriding\": [\"horseback riding\", \"equestrian\", \"trail riding\", \"horse riding\", \"western riding\", \"English riding\"],\n",
        "    \"archery\": [\"bow and arrow\", \"target archery\", \"field archery\", \"bowhunting\", \"Olympic archery\", \"traditional archery\"],\n",
        "    \"fencing\": [\"sword fighting\", \"foil fencing\", \"épée fencing\", \"sabre fencing\", \"Olympic fencing\", \"historical fencing\"],\n",
        "    \"martialarts\": [\"karate\", \"judo\", \"taekwondo\", \"kung fu\", \"jiu-jitsu\", \"mixed martial arts\"],\n",
        "    \"boxing\": [\"pugilism\", \"prizefighting\", \"sparring\", \"amateur boxing\", \"professional boxing\", \"shadow boxing\"],\n",
        "    \"wrestling\": [\"grappling\", \"freestyle wrestling\", \"Greco-Roman wrestling\", \"submission wrestling\", \"folkstyle wrestling\", \"professional wrestling\"],\n",
        "    \"plyometrics\": [\"jump training\", \"explosive training\", \"power training\", \"reactive training\", \"shock training\", \"ballistic training\"],\n",
        "    \"parkour\": [\"free running\", \"obstacle course training\", \"urban acrobatics\", \"street stunts\", \"parkour training\", \"tracing\"],\n",
        "    \"gymnastics\": [\"artistic gymnastics\", \"rhythmic gymnastics\", \"acrobatic gymnastics\", \"tumbling\", \"trampoline gymnastics\", \"floor exercises\"],\n",
        "    \"ballet\": [\"classical dance\", \"pointe work\", \"barre exercises\", \"ballet technique\", \"pas de deux\", \"ballet performance\"],\n",
        "    \"salsadancing\": [\"salsa dance\", \"Latin dance\", \"Cuban salsa\", \"LA style salsa\", \"New York style salsa\", \"Colombian salsa\"],\n",
        "    \"ballroomdancing\": [\"ballroom dance\", \"partner dancing\", \"social dancing\", \"competitive dancing\", \"standard ballroom\", \"Latin ballroom\"]\n",
        "}\n"
      ],
      "metadata": {
        "id": "UCynj-cuPvbL"
      },
      "execution_count": null,
      "outputs": []
    },
    {
      "cell_type": "code",
      "source": [
        "with open('exercise.csv', 'w', newline='', encoding='utf-8') as csvfile:\n",
        "  writer = csv.writer(csvfile, quoting=csv.QUOTE_ALL) #quote all fields\n",
        "  for exercise, synonyms in exercise_synonyms.items():\n",
        "    row = [exercise, \",\".join(synonyms)]\n",
        "    writer.writerow(row)\n",
        "\n",
        "\n",
        "files.download(\"exercise.csv\")"
      ],
      "metadata": {
        "colab": {
          "base_uri": "https://localhost:8080/",
          "height": 17
        },
        "id": "dcaSR9yvPx9w",
        "outputId": "dd3c7d6f-7a73-440d-b2ac-dfb4dc7a3b3b"
      },
      "execution_count": null,
      "outputs": [
        {
          "output_type": "display_data",
          "data": {
            "text/plain": [
              "<IPython.core.display.Javascript object>"
            ],
            "application/javascript": [
              "\n",
              "    async function download(id, filename, size) {\n",
              "      if (!google.colab.kernel.accessAllowed) {\n",
              "        return;\n",
              "      }\n",
              "      const div = document.createElement('div');\n",
              "      const label = document.createElement('label');\n",
              "      label.textContent = `Downloading \"${filename}\": `;\n",
              "      div.appendChild(label);\n",
              "      const progress = document.createElement('progress');\n",
              "      progress.max = size;\n",
              "      div.appendChild(progress);\n",
              "      document.body.appendChild(div);\n",
              "\n",
              "      const buffers = [];\n",
              "      let downloaded = 0;\n",
              "\n",
              "      const channel = await google.colab.kernel.comms.open(id);\n",
              "      // Send a message to notify the kernel that we're ready.\n",
              "      channel.send({})\n",
              "\n",
              "      for await (const message of channel.messages) {\n",
              "        // Send a message to notify the kernel that we're ready.\n",
              "        channel.send({})\n",
              "        if (message.buffers) {\n",
              "          for (const buffer of message.buffers) {\n",
              "            buffers.push(buffer);\n",
              "            downloaded += buffer.byteLength;\n",
              "            progress.value = downloaded;\n",
              "          }\n",
              "        }\n",
              "      }\n",
              "      const blob = new Blob(buffers, {type: 'application/binary'});\n",
              "      const a = document.createElement('a');\n",
              "      a.href = window.URL.createObjectURL(blob);\n",
              "      a.download = filename;\n",
              "      div.appendChild(a);\n",
              "      a.click();\n",
              "      div.remove();\n",
              "    }\n",
              "  "
            ]
          },
          "metadata": {}
        },
        {
          "output_type": "display_data",
          "data": {
            "text/plain": [
              "<IPython.core.display.Javascript object>"
            ],
            "application/javascript": [
              "download(\"download_8c74ac9b-9091-4103-b957-d93ed5891f50\", \"exercise.csv\", 10664)"
            ]
          },
          "metadata": {}
        }
      ]
    },
    {
      "cell_type": "code",
      "source": [
        "# Read the CSV file\n",
        "df = pd.read_csv('/content/nutrients_csvfile.csv')"
      ],
      "metadata": {
        "id": "T34et5oL8uvd"
      },
      "execution_count": null,
      "outputs": []
    },
    {
      "cell_type": "code",
      "source": [
        "# Process the data\n",
        "invalid_chars = [',', '.', '$', '#', '[', ']', '/']\n",
        "for _, row in df.iterrows():\n",
        "    food_name = str(row['Food']).strip().lower()\n",
        "    for char in invalid_chars:\n",
        "      food_name = food_name.replace(char, ' ')\n",
        "    nutrition_dict= {\n",
        "        'measure': row['Measure'],\n",
        "        'grams': row['Grams'],\n",
        "        'calories': row['Calories'],\n",
        "        'category': row['Category']\n",
        "    }\n",
        "    try:\n",
        "        db.child(\"nutrition\").child(food_name).set(nutrition_dict)\n",
        "    except:\n",
        "        print(food_name)\n",
        "\n",
        "\n"
      ],
      "metadata": {
        "id": "pqvRxHpZEPgU"
      },
      "execution_count": null,
      "outputs": []
    },
    {
      "cell_type": "code",
      "source": [
        "print(db.child(\"nutrition\").child(\"(cornstarch)\").get().val()['calories'])"
      ],
      "metadata": {
        "colab": {
          "base_uri": "https://localhost:8080/"
        },
        "id": "zX9ee8ut_Oee",
        "outputId": "8a9fbab2-edd4-4d51-b5be-8e9f9f8fa909"
      },
      "execution_count": null,
      "outputs": [
        {
          "output_type": "stream",
          "name": "stdout",
          "text": [
            "275\n"
          ]
        }
      ]
    },
    {
      "cell_type": "code",
      "source": [
        "df = pd.read_csv('/content/exercise_dataset.csv')"
      ],
      "metadata": {
        "id": "utwpdh_cx00H"
      },
      "execution_count": null,
      "outputs": []
    },
    {
      "cell_type": "code",
      "source": [
        "invalid_chars = [',', '.', '$', '#', '[', ']', '/']\n",
        "for _, row in df.iterrows():\n",
        "    exercise_name = str(row['Activity, Exercise or Sport (1 hour)']).strip().lower()\n",
        "    for char in invalid_chars:\n",
        "      exercise_name = exercise_name.replace(char, ' ')\n",
        "    exercise_dict= {\n",
        "        'calories per kg': row['Calories per kg'],\n",
        "        }\n",
        "    try:\n",
        "        db.child(\"exercise\").child(exercise_name).set(exercise_dict)\n",
        "    except:\n",
        "        print(exercise_name)\n"
      ],
      "metadata": {
        "id": "-ZwdXY6NyWnt"
      },
      "execution_count": null,
      "outputs": []
    },
    {
      "cell_type": "code",
      "source": [
        "nutrition_keys=[]\n",
        "for key in db.child(\"nutrition\").get().val():\n",
        "  nutrition_keys.append(key)\n",
        "\n",
        "print(len(nutrition_keys))\n",
        "\n",
        "with open('food.csv', 'w', newline='', encoding='utf-8') as csvfile:\n",
        "        writer = csv.writer(csvfile, quoting=csv.QUOTE_ALL) #quote all fields\n",
        "        for food_item in nutrition_keys:\n",
        "            writer.writerow([food_item, food_item]) # reference value and synonym\n",
        "\n",
        "files.download(\"food.csv\")\n"
      ],
      "metadata": {
        "colab": {
          "base_uri": "https://localhost:8080/",
          "height": 34
        },
        "id": "RtSVS34KUoeO",
        "outputId": "4089c941-7de9-4863-8768-9dd4ede952aa"
      },
      "execution_count": null,
      "outputs": [
        {
          "output_type": "stream",
          "name": "stdout",
          "text": [
            "331\n"
          ]
        },
        {
          "output_type": "display_data",
          "data": {
            "text/plain": [
              "<IPython.core.display.Javascript object>"
            ],
            "application/javascript": [
              "\n",
              "    async function download(id, filename, size) {\n",
              "      if (!google.colab.kernel.accessAllowed) {\n",
              "        return;\n",
              "      }\n",
              "      const div = document.createElement('div');\n",
              "      const label = document.createElement('label');\n",
              "      label.textContent = `Downloading \"${filename}\": `;\n",
              "      div.appendChild(label);\n",
              "      const progress = document.createElement('progress');\n",
              "      progress.max = size;\n",
              "      div.appendChild(progress);\n",
              "      document.body.appendChild(div);\n",
              "\n",
              "      const buffers = [];\n",
              "      let downloaded = 0;\n",
              "\n",
              "      const channel = await google.colab.kernel.comms.open(id);\n",
              "      // Send a message to notify the kernel that we're ready.\n",
              "      channel.send({})\n",
              "\n",
              "      for await (const message of channel.messages) {\n",
              "        // Send a message to notify the kernel that we're ready.\n",
              "        channel.send({})\n",
              "        if (message.buffers) {\n",
              "          for (const buffer of message.buffers) {\n",
              "            buffers.push(buffer);\n",
              "            downloaded += buffer.byteLength;\n",
              "            progress.value = downloaded;\n",
              "          }\n",
              "        }\n",
              "      }\n",
              "      const blob = new Blob(buffers, {type: 'application/binary'});\n",
              "      const a = document.createElement('a');\n",
              "      a.href = window.URL.createObjectURL(blob);\n",
              "      a.download = filename;\n",
              "      div.appendChild(a);\n",
              "      a.click();\n",
              "      div.remove();\n",
              "    }\n",
              "  "
            ]
          },
          "metadata": {}
        },
        {
          "output_type": "display_data",
          "data": {
            "text/plain": [
              "<IPython.core.display.Javascript object>"
            ],
            "application/javascript": [
              "download(\"download_17eacb1c-6203-46c2-a0a7-71fb40eea239\", \"food.csv\", 10375)"
            ]
          },
          "metadata": {}
        }
      ]
    },
    {
      "cell_type": "code",
      "source": [
        "exercise_keys=[]\n",
        "for key in db.child(\"exercise\").get().val():\n",
        "  exercise_keys.append(key)\n",
        "\n",
        "print(len(exercise_keys))"
      ],
      "metadata": {
        "colab": {
          "base_uri": "https://localhost:8080/"
        },
        "id": "cwhpBS-dzqhq",
        "outputId": "2d96bb70-344d-454f-cacf-c1a2c496c892"
      },
      "execution_count": null,
      "outputs": [
        {
          "output_type": "stream",
          "name": "stdout",
          "text": [
            "248\n"
          ]
        }
      ]
    },
    {
      "cell_type": "code",
      "source": [
        "current_date = date.today().strftime(\"%Y-%m-%d\")\n",
        "\n",
        "db.child(\"stats\").child(\"siavash\").child(current_date).set({\"consumed\":\"578\", \"burned\":\"390\"})"
      ],
      "metadata": {
        "colab": {
          "base_uri": "https://localhost:8080/"
        },
        "id": "iN1XyIWr0Br1",
        "outputId": "1044112a-caff-4a6b-b9d3-a48e14528b7d"
      },
      "execution_count": null,
      "outputs": [
        {
          "output_type": "execute_result",
          "data": {
            "text/plain": [
              "{'burned': '390', 'consumed': '578'}"
            ]
          },
          "metadata": {},
          "execution_count": 24
        }
      ]
    },
    {
      "cell_type": "code",
      "source": [
        "db_stats = db.child(\"stats\").child('john').get()\n",
        "print(db_stats.val())\n",
        "if not db_stats.val():\n",
        "  db.child(\"stats\").child(\"john\").child(current_date).set({\"consumed\":\"578\", \"burned\":\"390\"})\n",
        "else:\n",
        "  date_ref= db.child(\"stats\").child('john').child('2023-03-31').get()\n",
        "  if not date_ref.val():\n",
        "    db.child(\"stats\").child(\"john\").child('2023-03-31').set({\"consumed\":\"578\", \"burned\":\"390\"})"
      ],
      "metadata": {
        "colab": {
          "base_uri": "https://localhost:8080/"
        },
        "id": "z0CRK6s16P8-",
        "outputId": "493ac3ca-a922-4151-8a79-b80db1969535"
      },
      "execution_count": null,
      "outputs": [
        {
          "output_type": "stream",
          "name": "stdout",
          "text": [
            "OrderedDict([('2025-03-23', {'burned': '390', 'consumed': '578'})])\n"
          ]
        }
      ]
    },
    {
      "cell_type": "code",
      "source": [
        "def get_cheese_calories(db):\n",
        "    nutrition_ref = db.child(\"nutrition\").get()\n",
        "    for item in nutrition_ref.each():\n",
        "        food_data = item.val()\n",
        "        if 'Food' in food_data and 'cheese' in food_data['Food'].lower():\n",
        "            return food_data['Calories']\n",
        "    return \"Cheese not found in the database\"\n",
        "\n",
        "# Usage\n",
        "cheese_calories = get_cheese_calories(db)\n",
        "print(f\"Calories in cheese: {cheese_calories}\")\n"
      ],
      "metadata": {
        "id": "z9GBgLepGm9d",
        "outputId": "521895b1-ba0e-4454-f820-23387cff9910",
        "colab": {
          "base_uri": "https://localhost:8080/"
        }
      },
      "execution_count": null,
      "outputs": [
        {
          "output_type": "stream",
          "name": "stdout",
          "text": [
            "Calories in cheese: 240\n"
          ]
        }
      ]
    }
  ]
}
